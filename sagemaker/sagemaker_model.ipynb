{
 "cells": [
  {
   "cell_type": "code",
   "execution_count": 2,
   "id": "e98a2d24",
   "metadata": {},
   "outputs": [],
   "source": [
    "import warnings, requests, zipfile, io\n",
    "warnings.simplefilter('ignore')\n",
    "import pandas as pd\n",
    "from scipy.io import arff\n",
    "\n",
    "import os\n",
    "import boto3\n",
    "import sagemaker\n",
    "from sagemaker.image_uris import retrieve\n",
    "from sklearn.model_selection import train_test_split"
   ]
  },
  {
   "cell_type": "code",
   "execution_count": 3,
   "id": "5156e4b5",
   "metadata": {},
   "outputs": [],
   "source": [
    "role = sagemaker.get_execution_role()\n",
    "sess = sagemaker.Session()\n",
    "region = boto3.Session().region_name"
   ]
  },
  {
   "cell_type": "code",
   "execution_count": 4,
   "id": "fb7d1c97",
   "metadata": {},
   "outputs": [],
   "source": [
    "data_bucket = sess.default_bucket()\n",
    "data_prefix = \"notebook/taxi/data-csv\"\n",
    "#output_bucket = data_bucket\n",
    "#output_prefix = \"sagemaker/duration-regression\"\n"
   ]
  },
  {
   "cell_type": "code",
   "execution_count": 5,
   "id": "d2d6fb48",
   "metadata": {},
   "outputs": [],
   "source": [
    "df = pd.read_csv(\"train.csv\")"
   ]
  },
  {
   "cell_type": "code",
   "execution_count": 6,
   "id": "173c0b0d",
   "metadata": {},
   "outputs": [],
   "source": [
    "cols = df.columns.tolist()"
   ]
  },
  {
   "cell_type": "code",
   "execution_count": 7,
   "id": "c4e62353",
   "metadata": {},
   "outputs": [],
   "source": [
    "cols = [cols[17]] + [cols[1]] + cols[4:17] + cols[18:]\n",
    "df = df[cols]"
   ]
  },
  {
   "cell_type": "code",
   "execution_count": 8,
   "id": "36fe7d29",
   "metadata": {},
   "outputs": [],
   "source": [
    "train, test_and_validate = train_test_split(df, test_size=0.2, random_state=42)\n",
    "test, validate = train_test_split(test_and_validate, test_size=0.5, random_state=42)\n"
   ]
  },
  {
   "cell_type": "code",
   "execution_count": 9,
   "id": "e0ff31f2",
   "metadata": {},
   "outputs": [],
   "source": [
    "prefix = 'NYC'\n",
    "\n",
    "train_file='nyc_train.csv'\n",
    "test_file='nyc_test.csv'\n",
    "validate_file='nyc_validate.csv'"
   ]
  },
  {
   "cell_type": "code",
   "execution_count": 10,
   "id": "83d4fa39",
   "metadata": {},
   "outputs": [],
   "source": [
    "s3_resource = boto3.Session().resource('s3')\n",
    "def upload_s3_csv(filename, folder, dataframe):\n",
    "    csv_buffer = io.StringIO()\n",
    "    dataframe.to_csv(csv_buffer, header=False, index=False )\n",
    "    s3_resource.Bucket(data_bucket).Object(os.path.join(prefix, folder, filename)).put(Body=csv_buffer.getvalue())"
   ]
  },
  {
   "cell_type": "code",
   "execution_count": 11,
   "id": "ff2363f3",
   "metadata": {},
   "outputs": [],
   "source": [
    "upload_s3_csv(train_file, 'train', train)\n",
    "upload_s3_csv(test_file, 'test', test)\n",
    "upload_s3_csv(validate_file, 'validate', validate)"
   ]
  },
  {
   "cell_type": "code",
   "execution_count": 12,
   "id": "64aabdde",
   "metadata": {},
   "outputs": [],
   "source": [
    "container = retrieve('xgboost',boto3.Session().region_name,'1.0-1')"
   ]
  },
  {
   "cell_type": "code",
   "execution_count": 13,
   "id": "7f126508",
   "metadata": {},
   "outputs": [],
   "source": [
    "hyperparams={\"num_round\":\"42\",\n",
    "             \"eval_metric\": \"rmse\"}\n",
    "\n",
    "s3_output_location=\"s3://{}/{}/output/\".format(data_bucket,prefix)\n",
    "xgb_model=sagemaker.estimator.Estimator(container,\n",
    "                                       sagemaker.get_execution_role(),\n",
    "                                       instance_count=1,\n",
    "                                       instance_type='ml.m4.xlarge',\n",
    "                                       output_path=s3_output_location,\n",
    "                                        hyperparameters=hyperparams,\n",
    "                                        sagemaker_session=sagemaker.Session())"
   ]
  },
  {
   "cell_type": "code",
   "execution_count": 14,
   "id": "985f31ed",
   "metadata": {},
   "outputs": [],
   "source": [
    "train_channel = sagemaker.inputs.TrainingInput(\n",
    "    \"s3://{}/{}/train/\".format(data_bucket,prefix,train_file),\n",
    "    content_type='text/csv')\n",
    "\n",
    "validate_channel = sagemaker.inputs.TrainingInput(\n",
    "    \"s3://{}/{}/validate/\".format(data_bucket,prefix,validate_file),\n",
    "    content_type='text/csv')\n",
    "\n",
    "data_channels = {'train': train_channel, 'validation': validate_channel}"
   ]
  },
  {
   "cell_type": "code",
   "execution_count": null,
   "id": "76508dcb",
   "metadata": {},
   "outputs": [
    {
     "name": "stdout",
     "output_type": "stream",
     "text": [
      "\n",
      "2022-12-03 22:14:10 Starting - Starting the training job......\n",
      "2022-12-03 22:14:45 Starting - Preparing the instances for training..................\n",
      "2022-12-03 22:16:21 Downloading - Downloading input data......\n",
      "2022-12-03 22:16:56 Training - Downloading the training image..........\n",
      "2022-12-03 22:17:52 Training - Training image download completed. Training in progress........\n",
      "2022-12-03 22:18:33 Uploading - Uploading generated training model.."
     ]
    }
   ],
   "source": [
    "xgb_model.fit(inputs=data_channels, logs=False)\n",
    "\n",
    "print('ready for hosting!')"
   ]
  },
  {
   "cell_type": "code",
   "execution_count": null,
   "id": "fc066bf3",
   "metadata": {},
   "outputs": [],
   "source": [
    "xgb_model.deploy(initial_instance_count=1, intance_type='ml.c4.xlarge')\n",
    "print('Endpoint name:', xgb_model.endpoint_name)"
   ]
  }
 ],
 "metadata": {
  "kernelspec": {
   "display_name": "conda_python3",
   "language": "python",
   "name": "conda_python3"
  },
  "language_info": {
   "codemirror_mode": {
    "name": "ipython",
    "version": 3
   },
   "file_extension": ".py",
   "mimetype": "text/x-python",
   "name": "python",
   "nbconvert_exporter": "python",
   "pygments_lexer": "ipython3",
   "version": "3.8.12"
  }
 },
 "nbformat": 4,
 "nbformat_minor": 5
}
