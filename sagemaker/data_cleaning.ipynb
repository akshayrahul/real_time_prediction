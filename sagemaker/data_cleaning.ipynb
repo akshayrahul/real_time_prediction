{
  "cells": [
    {
      "cell_type": "code",
      "execution_count": null,
      "id": "016f2025",
      "metadata": {
        "id": "016f2025"
      },
      "outputs": [],
      "source": [
        "import numpy as np\n",
        "import pandas as pd \n",
        "import matplotlib.pyplot as plt\n",
        "%matplotlib inline\n",
        "from datetime import datetime\n",
        "from datetime import date\n",
        "from sklearn.cluster import MiniBatchKMeans\n",
        "import seaborn as sns \n",
        "import warnings\n",
        "import os\n",
        "import boto3\n",
        "import re\n",
        "import sagemaker\n",
        "sns.set()"
      ]
    },
    {
      "cell_type": "markdown",
      "id": "111bf9f9",
      "metadata": {
        "id": "111bf9f9"
      },
      "source": [
        "## Data descriptions\n",
        "File descriptions\n",
        "\n",
        "train.csv - the training set (contains 1458644 trip records)\n",
        "\n",
        "test.csv - the testing set (contains 625134 trip records)\n",
        "\n",
        "id - a unique identifier for each trip\n",
        "\n",
        "vendor_id - a code indicating the provider associated with the trip record\n",
        "\n",
        "pickup_datetime - date and time when the meter was engaged\n",
        "\n",
        "dropoff_datetime - date and time when the meter was disengaged\n",
        "\n",
        "passenger_count - the number of passengers in the vehicle (driver entered value)\n",
        "\n",
        "pickup_longitude - the longitude where the meter was engaged\n",
        "\n",
        "pickup_latitude - the latitude where the meter was engaged\n",
        "\n",
        "dropoff_longitude - the longitude where the meter was disengaged\n",
        "\n",
        "dropoff_latitude - the latitude where the meter was disengaged\n",
        "\n",
        "store_and_fwd_flag - This flag indicates whether the trip record was held in vehicle memory before sending to the vendor because the vehicle did not have a connection to the server - Y=store and forward; N=not a store and forward trip\n",
        "\n",
        "trip_duration - duration of the trip in seconds"
      ]
    },
    {
      "cell_type": "markdown",
      "id": "7485c7da",
      "metadata": {
        "id": "7485c7da"
      },
      "source": [
        "## Explore the data and feature selection"
      ]
    },
    {
      "cell_type": "code",
      "execution_count": null,
      "id": "ccdb8923",
      "metadata": {
        "id": "ccdb8923"
      },
      "outputs": [],
      "source": [
        "data = pd.read_csv(\"train.csv\",parse_dates = [\"pickup_datetime\"])\n",
        "dates = ['pickup_datetime']\n",
        "test = pd.read_csv(\"test.csv\",parse_dates = ['pickup_datetime'])"
      ]
    },
    {
      "cell_type": "code",
      "execution_count": null,
      "id": "9e850e59",
      "metadata": {
        "id": "9e850e59",
        "outputId": "fdf70ed9-dd53-4ecb-c170-153f80fef688"
      },
      "outputs": [
        {
          "data": {
            "text/html": [
              "<div>\n",
              "<style scoped>\n",
              "    .dataframe tbody tr th:only-of-type {\n",
              "        vertical-align: middle;\n",
              "    }\n",
              "\n",
              "    .dataframe tbody tr th {\n",
              "        vertical-align: top;\n",
              "    }\n",
              "\n",
              "    .dataframe thead th {\n",
              "        text-align: right;\n",
              "    }\n",
              "</style>\n",
              "<table border=\"1\" class=\"dataframe\">\n",
              "  <thead>\n",
              "    <tr style=\"text-align: right;\">\n",
              "      <th></th>\n",
              "      <th>id</th>\n",
              "      <th>vendor_id</th>\n",
              "      <th>pickup_datetime</th>\n",
              "      <th>dropoff_datetime</th>\n",
              "      <th>passenger_count</th>\n",
              "      <th>pickup_longitude</th>\n",
              "      <th>pickup_latitude</th>\n",
              "      <th>dropoff_longitude</th>\n",
              "      <th>dropoff_latitude</th>\n",
              "      <th>store_and_fwd_flag</th>\n",
              "      <th>trip_duration</th>\n",
              "    </tr>\n",
              "  </thead>\n",
              "  <tbody>\n",
              "    <tr>\n",
              "      <th>0</th>\n",
              "      <td>id2875421</td>\n",
              "      <td>2</td>\n",
              "      <td>2016-03-14 17:24:55</td>\n",
              "      <td>2016-03-14 17:32:30</td>\n",
              "      <td>1</td>\n",
              "      <td>-73.982155</td>\n",
              "      <td>40.767937</td>\n",
              "      <td>-73.964630</td>\n",
              "      <td>40.765602</td>\n",
              "      <td>N</td>\n",
              "      <td>455</td>\n",
              "    </tr>\n",
              "    <tr>\n",
              "      <th>1</th>\n",
              "      <td>id2377394</td>\n",
              "      <td>1</td>\n",
              "      <td>2016-06-12 00:43:35</td>\n",
              "      <td>2016-06-12 00:54:38</td>\n",
              "      <td>1</td>\n",
              "      <td>-73.980415</td>\n",
              "      <td>40.738564</td>\n",
              "      <td>-73.999481</td>\n",
              "      <td>40.731152</td>\n",
              "      <td>N</td>\n",
              "      <td>663</td>\n",
              "    </tr>\n",
              "    <tr>\n",
              "      <th>2</th>\n",
              "      <td>id3858529</td>\n",
              "      <td>2</td>\n",
              "      <td>2016-01-19 11:35:24</td>\n",
              "      <td>2016-01-19 12:10:48</td>\n",
              "      <td>1</td>\n",
              "      <td>-73.979027</td>\n",
              "      <td>40.763939</td>\n",
              "      <td>-74.005333</td>\n",
              "      <td>40.710087</td>\n",
              "      <td>N</td>\n",
              "      <td>2124</td>\n",
              "    </tr>\n",
              "    <tr>\n",
              "      <th>3</th>\n",
              "      <td>id3504673</td>\n",
              "      <td>2</td>\n",
              "      <td>2016-04-06 19:32:31</td>\n",
              "      <td>2016-04-06 19:39:40</td>\n",
              "      <td>1</td>\n",
              "      <td>-74.010040</td>\n",
              "      <td>40.719971</td>\n",
              "      <td>-74.012268</td>\n",
              "      <td>40.706718</td>\n",
              "      <td>N</td>\n",
              "      <td>429</td>\n",
              "    </tr>\n",
              "    <tr>\n",
              "      <th>4</th>\n",
              "      <td>id2181028</td>\n",
              "      <td>2</td>\n",
              "      <td>2016-03-26 13:30:55</td>\n",
              "      <td>2016-03-26 13:38:10</td>\n",
              "      <td>1</td>\n",
              "      <td>-73.973053</td>\n",
              "      <td>40.793209</td>\n",
              "      <td>-73.972923</td>\n",
              "      <td>40.782520</td>\n",
              "      <td>N</td>\n",
              "      <td>435</td>\n",
              "    </tr>\n",
              "  </tbody>\n",
              "</table>\n",
              "</div>"
            ],
            "text/plain": [
              "          id  vendor_id     pickup_datetime     dropoff_datetime  \\\n",
              "0  id2875421          2 2016-03-14 17:24:55  2016-03-14 17:32:30   \n",
              "1  id2377394          1 2016-06-12 00:43:35  2016-06-12 00:54:38   \n",
              "2  id3858529          2 2016-01-19 11:35:24  2016-01-19 12:10:48   \n",
              "3  id3504673          2 2016-04-06 19:32:31  2016-04-06 19:39:40   \n",
              "4  id2181028          2 2016-03-26 13:30:55  2016-03-26 13:38:10   \n",
              "\n",
              "   passenger_count  pickup_longitude  pickup_latitude  dropoff_longitude  \\\n",
              "0                1        -73.982155        40.767937         -73.964630   \n",
              "1                1        -73.980415        40.738564         -73.999481   \n",
              "2                1        -73.979027        40.763939         -74.005333   \n",
              "3                1        -74.010040        40.719971         -74.012268   \n",
              "4                1        -73.973053        40.793209         -73.972923   \n",
              "\n",
              "   dropoff_latitude store_and_fwd_flag  trip_duration  \n",
              "0         40.765602                  N            455  \n",
              "1         40.731152                  N            663  \n",
              "2         40.710087                  N           2124  \n",
              "3         40.706718                  N            429  \n",
              "4         40.782520                  N            435  "
            ]
          },
          "execution_count": 3,
          "metadata": {},
          "output_type": "execute_result"
        }
      ],
      "source": [
        "data.head()"
      ]
    },
    {
      "cell_type": "code",
      "execution_count": null,
      "id": "4d9c0333",
      "metadata": {
        "id": "4d9c0333",
        "outputId": "8569d8dd-e744-48c7-f168-46a451d7de9a"
      },
      "outputs": [
        {
          "name": "stdout",
          "output_type": "stream",
          "text": [
            "<class 'pandas.core.frame.DataFrame'>\n",
            "RangeIndex: 1458644 entries, 0 to 1458643\n",
            "Data columns (total 11 columns):\n",
            " #   Column              Non-Null Count    Dtype         \n",
            "---  ------              --------------    -----         \n",
            " 0   id                  1458644 non-null  object        \n",
            " 1   vendor_id           1458644 non-null  int64         \n",
            " 2   pickup_datetime     1458644 non-null  datetime64[ns]\n",
            " 3   dropoff_datetime    1458644 non-null  object        \n",
            " 4   passenger_count     1458644 non-null  int64         \n",
            " 5   pickup_longitude    1458644 non-null  float64       \n",
            " 6   pickup_latitude     1458644 non-null  float64       \n",
            " 7   dropoff_longitude   1458644 non-null  float64       \n",
            " 8   dropoff_latitude    1458644 non-null  float64       \n",
            " 9   store_and_fwd_flag  1458644 non-null  object        \n",
            " 10  trip_duration       1458644 non-null  int64         \n",
            "dtypes: datetime64[ns](1), float64(4), int64(3), object(3)\n",
            "memory usage: 122.4+ MB\n"
          ]
        }
      ],
      "source": [
        "data.info()"
      ]
    },
    {
      "cell_type": "code",
      "execution_count": null,
      "id": "7d29553a",
      "metadata": {
        "id": "7d29553a",
        "outputId": "63699380-ad6a-4b32-d2de-d758a84fb4f7"
      },
      "outputs": [
        {
          "name": "stdout",
          "output_type": "stream",
          "text": [
            "<class 'pandas.core.frame.DataFrame'>\n",
            "RangeIndex: 625134 entries, 0 to 625133\n",
            "Data columns (total 9 columns):\n",
            " #   Column              Non-Null Count   Dtype         \n",
            "---  ------              --------------   -----         \n",
            " 0   id                  625134 non-null  object        \n",
            " 1   vendor_id           625134 non-null  int64         \n",
            " 2   pickup_datetime     625134 non-null  datetime64[ns]\n",
            " 3   passenger_count     625134 non-null  int64         \n",
            " 4   pickup_longitude    625134 non-null  float64       \n",
            " 5   pickup_latitude     625134 non-null  float64       \n",
            " 6   dropoff_longitude   625134 non-null  float64       \n",
            " 7   dropoff_latitude    625134 non-null  float64       \n",
            " 8   store_and_fwd_flag  625134 non-null  object        \n",
            "dtypes: datetime64[ns](1), float64(4), int64(2), object(2)\n",
            "memory usage: 42.9+ MB\n"
          ]
        }
      ],
      "source": [
        "test.info()"
      ]
    },
    {
      "cell_type": "code",
      "execution_count": null,
      "id": "9e913e85",
      "metadata": {
        "id": "9e913e85",
        "outputId": "83c39611-fa4d-41ad-f7d6-42d56f072805"
      },
      "outputs": [
        {
          "data": {
            "text/html": [
              "<div>\n",
              "<style scoped>\n",
              "    .dataframe tbody tr th:only-of-type {\n",
              "        vertical-align: middle;\n",
              "    }\n",
              "\n",
              "    .dataframe tbody tr th {\n",
              "        vertical-align: top;\n",
              "    }\n",
              "\n",
              "    .dataframe thead th {\n",
              "        text-align: right;\n",
              "    }\n",
              "</style>\n",
              "<table border=\"1\" class=\"dataframe\">\n",
              "  <thead>\n",
              "    <tr style=\"text-align: right;\">\n",
              "      <th></th>\n",
              "      <th>vendor_id</th>\n",
              "      <th>passenger_count</th>\n",
              "      <th>pickup_longitude</th>\n",
              "      <th>pickup_latitude</th>\n",
              "      <th>dropoff_longitude</th>\n",
              "      <th>dropoff_latitude</th>\n",
              "      <th>trip_duration</th>\n",
              "    </tr>\n",
              "  </thead>\n",
              "  <tbody>\n",
              "    <tr>\n",
              "      <th>count</th>\n",
              "      <td>1.458644e+06</td>\n",
              "      <td>1.458644e+06</td>\n",
              "      <td>1.458644e+06</td>\n",
              "      <td>1.458644e+06</td>\n",
              "      <td>1.458644e+06</td>\n",
              "      <td>1.458644e+06</td>\n",
              "      <td>1.458644e+06</td>\n",
              "    </tr>\n",
              "    <tr>\n",
              "      <th>mean</th>\n",
              "      <td>1.534950e+00</td>\n",
              "      <td>1.664530e+00</td>\n",
              "      <td>-7.397349e+01</td>\n",
              "      <td>4.075092e+01</td>\n",
              "      <td>-7.397342e+01</td>\n",
              "      <td>4.075180e+01</td>\n",
              "      <td>9.594923e+02</td>\n",
              "    </tr>\n",
              "    <tr>\n",
              "      <th>std</th>\n",
              "      <td>4.987772e-01</td>\n",
              "      <td>1.314242e+00</td>\n",
              "      <td>7.090186e-02</td>\n",
              "      <td>3.288119e-02</td>\n",
              "      <td>7.064327e-02</td>\n",
              "      <td>3.589056e-02</td>\n",
              "      <td>5.237432e+03</td>\n",
              "    </tr>\n",
              "    <tr>\n",
              "      <th>min</th>\n",
              "      <td>1.000000e+00</td>\n",
              "      <td>0.000000e+00</td>\n",
              "      <td>-1.219333e+02</td>\n",
              "      <td>3.435970e+01</td>\n",
              "      <td>-1.219333e+02</td>\n",
              "      <td>3.218114e+01</td>\n",
              "      <td>1.000000e+00</td>\n",
              "    </tr>\n",
              "    <tr>\n",
              "      <th>25%</th>\n",
              "      <td>1.000000e+00</td>\n",
              "      <td>1.000000e+00</td>\n",
              "      <td>-7.399187e+01</td>\n",
              "      <td>4.073735e+01</td>\n",
              "      <td>-7.399133e+01</td>\n",
              "      <td>4.073588e+01</td>\n",
              "      <td>3.970000e+02</td>\n",
              "    </tr>\n",
              "    <tr>\n",
              "      <th>50%</th>\n",
              "      <td>2.000000e+00</td>\n",
              "      <td>1.000000e+00</td>\n",
              "      <td>-7.398174e+01</td>\n",
              "      <td>4.075410e+01</td>\n",
              "      <td>-7.397975e+01</td>\n",
              "      <td>4.075452e+01</td>\n",
              "      <td>6.620000e+02</td>\n",
              "    </tr>\n",
              "    <tr>\n",
              "      <th>75%</th>\n",
              "      <td>2.000000e+00</td>\n",
              "      <td>2.000000e+00</td>\n",
              "      <td>-7.396733e+01</td>\n",
              "      <td>4.076836e+01</td>\n",
              "      <td>-7.396301e+01</td>\n",
              "      <td>4.076981e+01</td>\n",
              "      <td>1.075000e+03</td>\n",
              "    </tr>\n",
              "    <tr>\n",
              "      <th>max</th>\n",
              "      <td>2.000000e+00</td>\n",
              "      <td>9.000000e+00</td>\n",
              "      <td>-6.133553e+01</td>\n",
              "      <td>5.188108e+01</td>\n",
              "      <td>-6.133553e+01</td>\n",
              "      <td>4.392103e+01</td>\n",
              "      <td>3.526282e+06</td>\n",
              "    </tr>\n",
              "  </tbody>\n",
              "</table>\n",
              "</div>"
            ],
            "text/plain": [
              "          vendor_id  passenger_count  pickup_longitude  pickup_latitude  \\\n",
              "count  1.458644e+06     1.458644e+06      1.458644e+06     1.458644e+06   \n",
              "mean   1.534950e+00     1.664530e+00     -7.397349e+01     4.075092e+01   \n",
              "std    4.987772e-01     1.314242e+00      7.090186e-02     3.288119e-02   \n",
              "min    1.000000e+00     0.000000e+00     -1.219333e+02     3.435970e+01   \n",
              "25%    1.000000e+00     1.000000e+00     -7.399187e+01     4.073735e+01   \n",
              "50%    2.000000e+00     1.000000e+00     -7.398174e+01     4.075410e+01   \n",
              "75%    2.000000e+00     2.000000e+00     -7.396733e+01     4.076836e+01   \n",
              "max    2.000000e+00     9.000000e+00     -6.133553e+01     5.188108e+01   \n",
              "\n",
              "       dropoff_longitude  dropoff_latitude  trip_duration  \n",
              "count       1.458644e+06      1.458644e+06   1.458644e+06  \n",
              "mean       -7.397342e+01      4.075180e+01   9.594923e+02  \n",
              "std         7.064327e-02      3.589056e-02   5.237432e+03  \n",
              "min        -1.219333e+02      3.218114e+01   1.000000e+00  \n",
              "25%        -7.399133e+01      4.073588e+01   3.970000e+02  \n",
              "50%        -7.397975e+01      4.075452e+01   6.620000e+02  \n",
              "75%        -7.396301e+01      4.076981e+01   1.075000e+03  \n",
              "max        -6.133553e+01      4.392103e+01   3.526282e+06  "
            ]
          },
          "execution_count": 6,
          "metadata": {},
          "output_type": "execute_result"
        }
      ],
      "source": [
        "data.describe()"
      ]
    },
    {
      "cell_type": "code",
      "execution_count": null,
      "id": "7ca852ce",
      "metadata": {
        "id": "7ca852ce"
      },
      "outputs": [],
      "source": [
        "# sepreate the datetime\n",
        "for df in (data,test):\n",
        "    df['pick_year'] = df['pickup_datetime'].dt.year\n",
        "    df['pick_month'] = df['pickup_datetime'].dt.month\n",
        "    df['pick_day'] = df['pickup_datetime'].dt.day\n",
        "    df['pick_hr'] = df['pickup_datetime'].dt.hour\n",
        "    df['pick_minute'] = df['pickup_datetime'].dt.minute\n",
        "    df['pick_weekday']=df['pickup_datetime'].dt.weekday\n",
        "#converting flag into 0 or 1\n",
        "    df['store_and_fwd_flag'] = 1 * (df.store_and_fwd_flag.values== 'Y')"
      ]
    },
    {
      "cell_type": "code",
      "execution_count": null,
      "id": "0c81b814",
      "metadata": {
        "id": "0c81b814"
      },
      "outputs": [],
      "source": [
        "data['isweekend']= data.apply(lambda x : (x['pick_weekday']==6 | x['pick_weekday']==5),axis=1)\n",
        "data['isweekend']=data['isweekend'].map({True: 1, False:0})\n",
        "test['isweekend']= test.apply(lambda x : (x['pick_weekday']==6 | x['pick_weekday']==5),axis=1)\n",
        "test['isweekend']=test['isweekend'].map({True: 1, False:0})"
      ]
    },
    {
      "cell_type": "code",
      "execution_count": null,
      "id": "6bfa9173",
      "metadata": {
        "id": "6bfa9173",
        "outputId": "a297d8ea-0d68-4fbf-d91a-89988eaf3b41"
      },
      "outputs": [
        {
          "data": {
            "text/html": [
              "<div>\n",
              "<style scoped>\n",
              "    .dataframe tbody tr th:only-of-type {\n",
              "        vertical-align: middle;\n",
              "    }\n",
              "\n",
              "    .dataframe tbody tr th {\n",
              "        vertical-align: top;\n",
              "    }\n",
              "\n",
              "    .dataframe thead th {\n",
              "        text-align: right;\n",
              "    }\n",
              "</style>\n",
              "<table border=\"1\" class=\"dataframe\">\n",
              "  <thead>\n",
              "    <tr style=\"text-align: right;\">\n",
              "      <th></th>\n",
              "      <th>id</th>\n",
              "      <th>vendor_id</th>\n",
              "      <th>pickup_datetime</th>\n",
              "      <th>dropoff_datetime</th>\n",
              "      <th>passenger_count</th>\n",
              "      <th>pickup_longitude</th>\n",
              "      <th>pickup_latitude</th>\n",
              "      <th>dropoff_longitude</th>\n",
              "      <th>dropoff_latitude</th>\n",
              "      <th>store_and_fwd_flag</th>\n",
              "      <th>trip_duration</th>\n",
              "      <th>pick_year</th>\n",
              "      <th>pick_month</th>\n",
              "      <th>pick_day</th>\n",
              "      <th>pick_hr</th>\n",
              "      <th>pick_minute</th>\n",
              "      <th>pick_weekday</th>\n",
              "      <th>isweekend</th>\n",
              "    </tr>\n",
              "  </thead>\n",
              "  <tbody>\n",
              "    <tr>\n",
              "      <th>0</th>\n",
              "      <td>id2875421</td>\n",
              "      <td>2</td>\n",
              "      <td>2016-03-14 17:24:55</td>\n",
              "      <td>2016-03-14 17:32:30</td>\n",
              "      <td>1</td>\n",
              "      <td>-73.982155</td>\n",
              "      <td>40.767937</td>\n",
              "      <td>-73.964630</td>\n",
              "      <td>40.765602</td>\n",
              "      <td>0</td>\n",
              "      <td>455</td>\n",
              "      <td>2016</td>\n",
              "      <td>3</td>\n",
              "      <td>14</td>\n",
              "      <td>17</td>\n",
              "      <td>24</td>\n",
              "      <td>0</td>\n",
              "      <td>0</td>\n",
              "    </tr>\n",
              "    <tr>\n",
              "      <th>1</th>\n",
              "      <td>id2377394</td>\n",
              "      <td>1</td>\n",
              "      <td>2016-06-12 00:43:35</td>\n",
              "      <td>2016-06-12 00:54:38</td>\n",
              "      <td>1</td>\n",
              "      <td>-73.980415</td>\n",
              "      <td>40.738564</td>\n",
              "      <td>-73.999481</td>\n",
              "      <td>40.731152</td>\n",
              "      <td>0</td>\n",
              "      <td>663</td>\n",
              "      <td>2016</td>\n",
              "      <td>6</td>\n",
              "      <td>12</td>\n",
              "      <td>0</td>\n",
              "      <td>43</td>\n",
              "      <td>6</td>\n",
              "      <td>0</td>\n",
              "    </tr>\n",
              "    <tr>\n",
              "      <th>2</th>\n",
              "      <td>id3858529</td>\n",
              "      <td>2</td>\n",
              "      <td>2016-01-19 11:35:24</td>\n",
              "      <td>2016-01-19 12:10:48</td>\n",
              "      <td>1</td>\n",
              "      <td>-73.979027</td>\n",
              "      <td>40.763939</td>\n",
              "      <td>-74.005333</td>\n",
              "      <td>40.710087</td>\n",
              "      <td>0</td>\n",
              "      <td>2124</td>\n",
              "      <td>2016</td>\n",
              "      <td>1</td>\n",
              "      <td>19</td>\n",
              "      <td>11</td>\n",
              "      <td>35</td>\n",
              "      <td>1</td>\n",
              "      <td>0</td>\n",
              "    </tr>\n",
              "    <tr>\n",
              "      <th>3</th>\n",
              "      <td>id3504673</td>\n",
              "      <td>2</td>\n",
              "      <td>2016-04-06 19:32:31</td>\n",
              "      <td>2016-04-06 19:39:40</td>\n",
              "      <td>1</td>\n",
              "      <td>-74.010040</td>\n",
              "      <td>40.719971</td>\n",
              "      <td>-74.012268</td>\n",
              "      <td>40.706718</td>\n",
              "      <td>0</td>\n",
              "      <td>429</td>\n",
              "      <td>2016</td>\n",
              "      <td>4</td>\n",
              "      <td>6</td>\n",
              "      <td>19</td>\n",
              "      <td>32</td>\n",
              "      <td>2</td>\n",
              "      <td>0</td>\n",
              "    </tr>\n",
              "    <tr>\n",
              "      <th>4</th>\n",
              "      <td>id2181028</td>\n",
              "      <td>2</td>\n",
              "      <td>2016-03-26 13:30:55</td>\n",
              "      <td>2016-03-26 13:38:10</td>\n",
              "      <td>1</td>\n",
              "      <td>-73.973053</td>\n",
              "      <td>40.793209</td>\n",
              "      <td>-73.972923</td>\n",
              "      <td>40.782520</td>\n",
              "      <td>0</td>\n",
              "      <td>435</td>\n",
              "      <td>2016</td>\n",
              "      <td>3</td>\n",
              "      <td>26</td>\n",
              "      <td>13</td>\n",
              "      <td>30</td>\n",
              "      <td>5</td>\n",
              "      <td>0</td>\n",
              "    </tr>\n",
              "  </tbody>\n",
              "</table>\n",
              "</div>"
            ],
            "text/plain": [
              "          id  vendor_id     pickup_datetime     dropoff_datetime  \\\n",
              "0  id2875421          2 2016-03-14 17:24:55  2016-03-14 17:32:30   \n",
              "1  id2377394          1 2016-06-12 00:43:35  2016-06-12 00:54:38   \n",
              "2  id3858529          2 2016-01-19 11:35:24  2016-01-19 12:10:48   \n",
              "3  id3504673          2 2016-04-06 19:32:31  2016-04-06 19:39:40   \n",
              "4  id2181028          2 2016-03-26 13:30:55  2016-03-26 13:38:10   \n",
              "\n",
              "   passenger_count  pickup_longitude  pickup_latitude  dropoff_longitude  \\\n",
              "0                1        -73.982155        40.767937         -73.964630   \n",
              "1                1        -73.980415        40.738564         -73.999481   \n",
              "2                1        -73.979027        40.763939         -74.005333   \n",
              "3                1        -74.010040        40.719971         -74.012268   \n",
              "4                1        -73.973053        40.793209         -73.972923   \n",
              "\n",
              "   dropoff_latitude  store_and_fwd_flag  trip_duration  pick_year  pick_month  \\\n",
              "0         40.765602                   0            455       2016           3   \n",
              "1         40.731152                   0            663       2016           6   \n",
              "2         40.710087                   0           2124       2016           1   \n",
              "3         40.706718                   0            429       2016           4   \n",
              "4         40.782520                   0            435       2016           3   \n",
              "\n",
              "   pick_day  pick_hr  pick_minute  pick_weekday  isweekend  \n",
              "0        14       17           24             0          0  \n",
              "1        12        0           43             6          0  \n",
              "2        19       11           35             1          0  \n",
              "3         6       19           32             2          0  \n",
              "4        26       13           30             5          0  "
            ]
          },
          "execution_count": 14,
          "metadata": {},
          "output_type": "execute_result"
        }
      ],
      "source": [
        "data.head()"
      ]
    },
    {
      "cell_type": "code",
      "execution_count": null,
      "id": "b834a9fb",
      "metadata": {
        "id": "b834a9fb"
      },
      "outputs": [],
      "source": [
        "me = np.mean(data['trip_duration'])\n",
        "st = np.std(data['trip_duration'])\n",
        "data = data[data['trip_duration'] <= me + 2*st]\n",
        "data = data[data['trip_duration'] >= me - 2*st]"
      ]
    },
    {
      "cell_type": "code",
      "execution_count": null,
      "id": "5dd5be9b",
      "metadata": {
        "id": "5dd5be9b"
      },
      "outputs": [],
      "source": [
        "#create a log column for trip duration \n",
        "data = data.assign(log_trip_duration = np.log(data.trip_duration+1)) "
      ]
    },
    {
      "cell_type": "code",
      "execution_count": null,
      "id": "b60ebf45",
      "metadata": {
        "id": "b60ebf45"
      },
      "outputs": [],
      "source": [
        "data= data[data['pickup_longitude'] <= -73.75]\n",
        "data= data[data['pickup_longitude'] >= -74.03]\n",
        "data= data[data['pickup_latitude'] <= 40.85]\n",
        "data= data[data['pickup_latitude'] >= 40.63]\n",
        "data= data[data['dropoff_longitude'] <= -73.75]\n",
        "data= data[data['dropoff_longitude'] >= -74.03]\n",
        "data= data[data['dropoff_latitude'] <= 40.85]\n",
        "data= data[data['dropoff_latitude'] >= 40.63]"
      ]
    },
    {
      "cell_type": "code",
      "execution_count": null,
      "id": "0df4239d",
      "metadata": {
        "id": "0df4239d"
      },
      "outputs": [],
      "source": [
        "coord_pickup = np.vstack((data[['pickup_latitude', 'pickup_longitude']].values, test[['pickup_latitude','pickup_longitude']].values))\n",
        "coord_dropoff = np.vstack((data[['dropoff_latitude', 'dropoff_longitude']].values, test[['dropoff_latitude','dropoff_longitude']].values))"
      ]
    },
    {
      "cell_type": "code",
      "execution_count": null,
      "id": "fd9596a8",
      "metadata": {
        "id": "fd9596a8"
      },
      "outputs": [],
      "source": [
        "coords = np.hstack((coord_pickup,coord_dropoff))"
      ]
    },
    {
      "cell_type": "code",
      "execution_count": null,
      "id": "ea406c97",
      "metadata": {
        "id": "ea406c97",
        "outputId": "7f8dc521-3c59-41f1-a90b-613ced4d3e3d"
      },
      "outputs": [
        {
          "name": "stderr",
          "output_type": "stream",
          "text": [
            "/home/ec2-user/anaconda3/envs/python3/lib/python3.8/site-packages/sklearn/base.py:438: UserWarning: X has feature names, but MiniBatchKMeans was fitted without feature names\n",
            "  warnings.warn(\n",
            "/home/ec2-user/anaconda3/envs/python3/lib/python3.8/site-packages/sklearn/base.py:438: UserWarning: X has feature names, but MiniBatchKMeans was fitted without feature names\n",
            "  warnings.warn(\n"
          ]
        }
      ],
      "source": [
        "sample_ind = np.random.permutation(len(coords))[:500000]\n",
        "kmeans = MiniBatchKMeans(n_clusters=10, batch_size =10000).fit(coords[sample_ind])\n",
        "for df in (data,test):\n",
        "    df.loc[:,'pickup_dropoff_loc'] = kmeans.predict(df[['pickup_latitude', 'pickup_longitude',\n",
        "                                                         'dropoff_latitude','dropoff_longitude']])"
      ]
    },
    {
      "cell_type": "code",
      "execution_count": null,
      "id": "3c3ee10e",
      "metadata": {
        "id": "3c3ee10e"
      },
      "outputs": [],
      "source": [
        "kmean_data = data[['pickup_dropoff_loc']]\n",
        "kmean_test = test[['pickup_dropoff_loc']]"
      ]
    },
    {
      "cell_type": "code",
      "execution_count": null,
      "id": "2327e8d5",
      "metadata": {
        "id": "2327e8d5",
        "outputId": "61c68c2f-76d4-49ee-c2de-abc123961eba"
      },
      "outputs": [
        {
          "data": {
            "text/html": [
              "<div>\n",
              "<style scoped>\n",
              "    .dataframe tbody tr th:only-of-type {\n",
              "        vertical-align: middle;\n",
              "    }\n",
              "\n",
              "    .dataframe tbody tr th {\n",
              "        vertical-align: top;\n",
              "    }\n",
              "\n",
              "    .dataframe thead th {\n",
              "        text-align: right;\n",
              "    }\n",
              "</style>\n",
              "<table border=\"1\" class=\"dataframe\">\n",
              "  <thead>\n",
              "    <tr style=\"text-align: right;\">\n",
              "      <th></th>\n",
              "      <th>id</th>\n",
              "      <th>vendor_id</th>\n",
              "      <th>pickup_datetime</th>\n",
              "      <th>dropoff_datetime</th>\n",
              "      <th>passenger_count</th>\n",
              "      <th>pickup_longitude</th>\n",
              "      <th>pickup_latitude</th>\n",
              "      <th>dropoff_longitude</th>\n",
              "      <th>dropoff_latitude</th>\n",
              "      <th>store_and_fwd_flag</th>\n",
              "      <th>trip_duration</th>\n",
              "      <th>pick_year</th>\n",
              "      <th>pick_month</th>\n",
              "      <th>pick_day</th>\n",
              "      <th>pick_hr</th>\n",
              "      <th>pick_minute</th>\n",
              "      <th>log_trip_duration</th>\n",
              "      <th>pickup_dropoff_loc</th>\n",
              "    </tr>\n",
              "  </thead>\n",
              "  <tbody>\n",
              "    <tr>\n",
              "      <th>0</th>\n",
              "      <td>id2875421</td>\n",
              "      <td>2</td>\n",
              "      <td>2016-03-14 17:24:55</td>\n",
              "      <td>2016-03-14 17:32:30</td>\n",
              "      <td>1</td>\n",
              "      <td>-73.982155</td>\n",
              "      <td>40.767937</td>\n",
              "      <td>-73.964630</td>\n",
              "      <td>40.765602</td>\n",
              "      <td>0</td>\n",
              "      <td>455</td>\n",
              "      <td>2016</td>\n",
              "      <td>3</td>\n",
              "      <td>14</td>\n",
              "      <td>17</td>\n",
              "      <td>24</td>\n",
              "      <td>6.122493</td>\n",
              "      <td>1</td>\n",
              "    </tr>\n",
              "    <tr>\n",
              "      <th>1</th>\n",
              "      <td>id2377394</td>\n",
              "      <td>1</td>\n",
              "      <td>2016-06-12 00:43:35</td>\n",
              "      <td>2016-06-12 00:54:38</td>\n",
              "      <td>1</td>\n",
              "      <td>-73.980415</td>\n",
              "      <td>40.738564</td>\n",
              "      <td>-73.999481</td>\n",
              "      <td>40.731152</td>\n",
              "      <td>0</td>\n",
              "      <td>663</td>\n",
              "      <td>2016</td>\n",
              "      <td>6</td>\n",
              "      <td>12</td>\n",
              "      <td>0</td>\n",
              "      <td>43</td>\n",
              "      <td>6.498282</td>\n",
              "      <td>6</td>\n",
              "    </tr>\n",
              "    <tr>\n",
              "      <th>2</th>\n",
              "      <td>id3858529</td>\n",
              "      <td>2</td>\n",
              "      <td>2016-01-19 11:35:24</td>\n",
              "      <td>2016-01-19 12:10:48</td>\n",
              "      <td>1</td>\n",
              "      <td>-73.979027</td>\n",
              "      <td>40.763939</td>\n",
              "      <td>-74.005333</td>\n",
              "      <td>40.710087</td>\n",
              "      <td>0</td>\n",
              "      <td>2124</td>\n",
              "      <td>2016</td>\n",
              "      <td>1</td>\n",
              "      <td>19</td>\n",
              "      <td>11</td>\n",
              "      <td>35</td>\n",
              "      <td>7.661527</td>\n",
              "      <td>6</td>\n",
              "    </tr>\n",
              "    <tr>\n",
              "      <th>3</th>\n",
              "      <td>id3504673</td>\n",
              "      <td>2</td>\n",
              "      <td>2016-04-06 19:32:31</td>\n",
              "      <td>2016-04-06 19:39:40</td>\n",
              "      <td>1</td>\n",
              "      <td>-74.010040</td>\n",
              "      <td>40.719971</td>\n",
              "      <td>-74.012268</td>\n",
              "      <td>40.706718</td>\n",
              "      <td>0</td>\n",
              "      <td>429</td>\n",
              "      <td>2016</td>\n",
              "      <td>4</td>\n",
              "      <td>6</td>\n",
              "      <td>19</td>\n",
              "      <td>32</td>\n",
              "      <td>6.063785</td>\n",
              "      <td>6</td>\n",
              "    </tr>\n",
              "    <tr>\n",
              "      <th>4</th>\n",
              "      <td>id2181028</td>\n",
              "      <td>2</td>\n",
              "      <td>2016-03-26 13:30:55</td>\n",
              "      <td>2016-03-26 13:38:10</td>\n",
              "      <td>1</td>\n",
              "      <td>-73.973053</td>\n",
              "      <td>40.793209</td>\n",
              "      <td>-73.972923</td>\n",
              "      <td>40.782520</td>\n",
              "      <td>0</td>\n",
              "      <td>435</td>\n",
              "      <td>2016</td>\n",
              "      <td>3</td>\n",
              "      <td>26</td>\n",
              "      <td>13</td>\n",
              "      <td>30</td>\n",
              "      <td>6.077642</td>\n",
              "      <td>1</td>\n",
              "    </tr>\n",
              "  </tbody>\n",
              "</table>\n",
              "</div>"
            ],
            "text/plain": [
              "          id  vendor_id     pickup_datetime     dropoff_datetime  \\\n",
              "0  id2875421          2 2016-03-14 17:24:55  2016-03-14 17:32:30   \n",
              "1  id2377394          1 2016-06-12 00:43:35  2016-06-12 00:54:38   \n",
              "2  id3858529          2 2016-01-19 11:35:24  2016-01-19 12:10:48   \n",
              "3  id3504673          2 2016-04-06 19:32:31  2016-04-06 19:39:40   \n",
              "4  id2181028          2 2016-03-26 13:30:55  2016-03-26 13:38:10   \n",
              "\n",
              "   passenger_count  pickup_longitude  pickup_latitude  dropoff_longitude  \\\n",
              "0                1        -73.982155        40.767937         -73.964630   \n",
              "1                1        -73.980415        40.738564         -73.999481   \n",
              "2                1        -73.979027        40.763939         -74.005333   \n",
              "3                1        -74.010040        40.719971         -74.012268   \n",
              "4                1        -73.973053        40.793209         -73.972923   \n",
              "\n",
              "   dropoff_latitude  store_and_fwd_flag  trip_duration  pick_year  pick_month  \\\n",
              "0         40.765602                   0            455       2016           3   \n",
              "1         40.731152                   0            663       2016           6   \n",
              "2         40.710087                   0           2124       2016           1   \n",
              "3         40.706718                   0            429       2016           4   \n",
              "4         40.782520                   0            435       2016           3   \n",
              "\n",
              "   pick_day  pick_hr  pick_minute  log_trip_duration  pickup_dropoff_loc  \n",
              "0        14       17           24           6.122493                   1  \n",
              "1        12        0           43           6.498282                   6  \n",
              "2        19       11           35           7.661527                   6  \n",
              "3         6       19           32           6.063785                   6  \n",
              "4        26       13           30           6.077642                   1  "
            ]
          },
          "execution_count": 15,
          "metadata": {},
          "output_type": "execute_result"
        }
      ],
      "source": [
        "data.head()"
      ]
    },
    {
      "cell_type": "code",
      "execution_count": null,
      "id": "2083a7c8",
      "metadata": {
        "id": "2083a7c8"
      },
      "outputs": [],
      "source": [
        "## NYC holiday data \n",
        "holiday = pd.read_csv(\"NYC_2016Holidays.csv\",sep=\";\")"
      ]
    },
    {
      "cell_type": "code",
      "execution_count": null,
      "id": "3b1411cb",
      "metadata": {
        "id": "3b1411cb"
      },
      "outputs": [],
      "source": [
        "\n",
        "holidays = [datetime]\n",
        "time_data = pd.DataFrame(index = range(len(data)))  \n",
        "time_test = pd.DataFrame(index = range(len(test)))"
      ]
    },
    {
      "cell_type": "code",
      "execution_count": null,
      "id": "ddc291b0",
      "metadata": {
        "id": "ddc291b0"
      },
      "outputs": [],
      "source": [
        "def find_holiday(yr, month, day, holidays):\n",
        "    holiday =  [None]*len(yr)\n",
        "    weekend =  [None]*len(yr)\n",
        "    i = 0 \n",
        "    for yy,mm,dd in zip(yr, month, day):\n",
        "        #checking for saturday sunday(6,7), date.isoweekday() returns the day\n",
        "        weekend[i] = date(yy,mm,dd).isoweekday() in (6,7)\n",
        "        holiday[i] = weekend[i] or date(yy,mm,dd)  in holidays\n",
        "        i+=1\n",
        "    return holiday, weekend"
      ]
    },
    {
      "cell_type": "code",
      "execution_count": null,
      "id": "56954a4c",
      "metadata": {
        "id": "56954a4c"
      },
      "outputs": [],
      "source": [
        "#for training data, creating rest_day and weekend columns in a new dataframe (will merge later)\n",
        "rest_day,weekend = find_holiday(data.pick_year, data.pick_month, data.pick_day, holidays)\n",
        "time_data = time_data.assign(rest_day = rest_day)\n",
        "time_data = time_data.assign(weekend = weekend)\n",
        "\n",
        "#replicating for test data\n",
        "rest_day,weekend = find_holiday(test.pick_year, test.pick_month, test.pick_day, holidays)\n",
        "time_test = time_test.assign(rest_day = rest_day)\n",
        "time_test = time_test.assign(weekend = weekend)"
      ]
    },
    {
      "cell_type": "code",
      "execution_count": null,
      "id": "42f37d4d",
      "metadata": {
        "id": "42f37d4d"
      },
      "outputs": [],
      "source": [
        "#changing time into floats \n",
        "time_data = time_data.assign(pickup_time = data.pick_hr+data.pick_minute/60)\n",
        "time_test = time_test.assign(pickup_time = test.pick_hr+ test.pick_minute/60)"
      ]
    },
    {
      "cell_type": "code",
      "execution_count": null,
      "id": "5b9763b9",
      "metadata": {
        "id": "5b9763b9",
        "outputId": "185c6a1c-d1a3-4201-c3b7-4c796fbd6981"
      },
      "outputs": [
        {
          "data": {
            "text/html": [
              "<div>\n",
              "<style scoped>\n",
              "    .dataframe tbody tr th:only-of-type {\n",
              "        vertical-align: middle;\n",
              "    }\n",
              "\n",
              "    .dataframe tbody tr th {\n",
              "        vertical-align: top;\n",
              "    }\n",
              "\n",
              "    .dataframe thead th {\n",
              "        text-align: right;\n",
              "    }\n",
              "</style>\n",
              "<table border=\"1\" class=\"dataframe\">\n",
              "  <thead>\n",
              "    <tr style=\"text-align: right;\">\n",
              "      <th></th>\n",
              "      <th>Day</th>\n",
              "      <th>Date</th>\n",
              "      <th>Holiday</th>\n",
              "    </tr>\n",
              "  </thead>\n",
              "  <tbody>\n",
              "    <tr>\n",
              "      <th>0</th>\n",
              "      <td>Friday</td>\n",
              "      <td>January 01</td>\n",
              "      <td>New Years Day</td>\n",
              "    </tr>\n",
              "    <tr>\n",
              "      <th>1</th>\n",
              "      <td>Monday</td>\n",
              "      <td>January 18</td>\n",
              "      <td>Martin Luther King Jr. Day</td>\n",
              "    </tr>\n",
              "    <tr>\n",
              "      <th>2</th>\n",
              "      <td>Friday</td>\n",
              "      <td>February 12</td>\n",
              "      <td>Lincoln's Birthday</td>\n",
              "    </tr>\n",
              "    <tr>\n",
              "      <th>3</th>\n",
              "      <td>Monday</td>\n",
              "      <td>February 15</td>\n",
              "      <td>Presidents' Day</td>\n",
              "    </tr>\n",
              "    <tr>\n",
              "      <th>4</th>\n",
              "      <td>Sunday</td>\n",
              "      <td>May 08</td>\n",
              "      <td>Mother's Day</td>\n",
              "    </tr>\n",
              "  </tbody>\n",
              "</table>\n",
              "</div>"
            ],
            "text/plain": [
              "      Day         Date                     Holiday\n",
              "0  Friday   January 01               New Years Day\n",
              "1  Monday   January 18  Martin Luther King Jr. Day\n",
              "2  Friday  February 12          Lincoln's Birthday\n",
              "3  Monday  February 15             Presidents' Day\n",
              "4  Sunday       May 08                Mother's Day"
            ]
          },
          "execution_count": 27,
          "metadata": {},
          "output_type": "execute_result"
        }
      ],
      "source": [
        "holiday.head()"
      ]
    },
    {
      "cell_type": "code",
      "execution_count": null,
      "id": "bf970bfe",
      "metadata": {
        "id": "bf970bfe"
      },
      "outputs": [],
      "source": [
        "weather = pd.read_csv(\"KNYC_Metars.csv\",parse_dates=['Time'])"
      ]
    },
    {
      "cell_type": "code",
      "execution_count": null,
      "id": "55661db6",
      "metadata": {
        "id": "55661db6",
        "outputId": "2dc30ac8-be63-4da4-fc77-1bfbf59c022f"
      },
      "outputs": [
        {
          "data": {
            "text/html": [
              "<div>\n",
              "<style scoped>\n",
              "    .dataframe tbody tr th:only-of-type {\n",
              "        vertical-align: middle;\n",
              "    }\n",
              "\n",
              "    .dataframe tbody tr th {\n",
              "        vertical-align: top;\n",
              "    }\n",
              "\n",
              "    .dataframe thead th {\n",
              "        text-align: right;\n",
              "    }\n",
              "</style>\n",
              "<table border=\"1\" class=\"dataframe\">\n",
              "  <thead>\n",
              "    <tr style=\"text-align: right;\">\n",
              "      <th></th>\n",
              "      <th>Time</th>\n",
              "      <th>Temp.</th>\n",
              "      <th>Windchill</th>\n",
              "      <th>Heat Index</th>\n",
              "      <th>Humidity</th>\n",
              "      <th>Pressure</th>\n",
              "      <th>Dew Point</th>\n",
              "      <th>Visibility</th>\n",
              "      <th>Wind Dir</th>\n",
              "      <th>Wind Speed</th>\n",
              "      <th>Gust Speed</th>\n",
              "      <th>Precip</th>\n",
              "      <th>Events</th>\n",
              "      <th>Conditions</th>\n",
              "    </tr>\n",
              "  </thead>\n",
              "  <tbody>\n",
              "    <tr>\n",
              "      <th>0</th>\n",
              "      <td>2015-12-31 02:00:00</td>\n",
              "      <td>7.8</td>\n",
              "      <td>7.1</td>\n",
              "      <td>NaN</td>\n",
              "      <td>0.89</td>\n",
              "      <td>1017.0</td>\n",
              "      <td>6.1</td>\n",
              "      <td>8.0</td>\n",
              "      <td>NNE</td>\n",
              "      <td>5.6</td>\n",
              "      <td>0.0</td>\n",
              "      <td>0.8</td>\n",
              "      <td>None</td>\n",
              "      <td>Overcast</td>\n",
              "    </tr>\n",
              "    <tr>\n",
              "      <th>1</th>\n",
              "      <td>2015-12-31 03:00:00</td>\n",
              "      <td>7.2</td>\n",
              "      <td>5.9</td>\n",
              "      <td>NaN</td>\n",
              "      <td>0.90</td>\n",
              "      <td>1016.5</td>\n",
              "      <td>5.6</td>\n",
              "      <td>12.9</td>\n",
              "      <td>Variable</td>\n",
              "      <td>7.4</td>\n",
              "      <td>0.0</td>\n",
              "      <td>0.3</td>\n",
              "      <td>None</td>\n",
              "      <td>Overcast</td>\n",
              "    </tr>\n",
              "    <tr>\n",
              "      <th>2</th>\n",
              "      <td>2015-12-31 04:00:00</td>\n",
              "      <td>7.2</td>\n",
              "      <td>NaN</td>\n",
              "      <td>NaN</td>\n",
              "      <td>0.90</td>\n",
              "      <td>1016.7</td>\n",
              "      <td>5.6</td>\n",
              "      <td>12.9</td>\n",
              "      <td>Calm</td>\n",
              "      <td>0.0</td>\n",
              "      <td>0.0</td>\n",
              "      <td>0.0</td>\n",
              "      <td>None</td>\n",
              "      <td>Overcast</td>\n",
              "    </tr>\n",
              "    <tr>\n",
              "      <th>3</th>\n",
              "      <td>2015-12-31 05:00:00</td>\n",
              "      <td>7.2</td>\n",
              "      <td>5.9</td>\n",
              "      <td>NaN</td>\n",
              "      <td>0.86</td>\n",
              "      <td>1015.9</td>\n",
              "      <td>5.0</td>\n",
              "      <td>14.5</td>\n",
              "      <td>NW</td>\n",
              "      <td>7.4</td>\n",
              "      <td>0.0</td>\n",
              "      <td>0.0</td>\n",
              "      <td>None</td>\n",
              "      <td>Overcast</td>\n",
              "    </tr>\n",
              "    <tr>\n",
              "      <th>4</th>\n",
              "      <td>2015-12-31 06:00:00</td>\n",
              "      <td>7.2</td>\n",
              "      <td>6.4</td>\n",
              "      <td>NaN</td>\n",
              "      <td>0.90</td>\n",
              "      <td>1016.2</td>\n",
              "      <td>5.6</td>\n",
              "      <td>11.3</td>\n",
              "      <td>West</td>\n",
              "      <td>5.6</td>\n",
              "      <td>0.0</td>\n",
              "      <td>0.0</td>\n",
              "      <td>None</td>\n",
              "      <td>Overcast</td>\n",
              "    </tr>\n",
              "  </tbody>\n",
              "</table>\n",
              "</div>"
            ],
            "text/plain": [
              "                 Time  Temp.  Windchill  Heat Index  Humidity  Pressure  \\\n",
              "0 2015-12-31 02:00:00    7.8        7.1         NaN      0.89    1017.0   \n",
              "1 2015-12-31 03:00:00    7.2        5.9         NaN      0.90    1016.5   \n",
              "2 2015-12-31 04:00:00    7.2        NaN         NaN      0.90    1016.7   \n",
              "3 2015-12-31 05:00:00    7.2        5.9         NaN      0.86    1015.9   \n",
              "4 2015-12-31 06:00:00    7.2        6.4         NaN      0.90    1016.2   \n",
              "\n",
              "   Dew Point  Visibility  Wind Dir  Wind Speed  Gust Speed  Precip Events  \\\n",
              "0        6.1         8.0       NNE         5.6         0.0     0.8   None   \n",
              "1        5.6        12.9  Variable         7.4         0.0     0.3   None   \n",
              "2        5.6        12.9      Calm         0.0         0.0     0.0   None   \n",
              "3        5.0        14.5        NW         7.4         0.0     0.0   None   \n",
              "4        5.6        11.3      West         5.6         0.0     0.0   None   \n",
              "\n",
              "  Conditions  \n",
              "0   Overcast  \n",
              "1   Overcast  \n",
              "2   Overcast  \n",
              "3   Overcast  \n",
              "4   Overcast  "
            ]
          },
          "execution_count": 29,
          "metadata": {},
          "output_type": "execute_result"
        }
      ],
      "source": [
        "weather.head(5)"
      ]
    },
    {
      "cell_type": "code",
      "execution_count": null,
      "id": "0c0bb326",
      "metadata": {
        "id": "0c0bb326"
      },
      "outputs": [],
      "source": [
        "weather['snow'] = 1*(weather.Events == 'Snow') + 1*(weather.Events == 'Fog\\n\\t,\\nSnow')\n",
        "weather['year'] = weather['Time'].dt.year\n",
        "weather['month'] = weather['Time'].dt.month\n",
        "weather['day'] = weather['Time'].dt.day\n",
        "weather['hr'] = weather['Time'].dt.hour\n",
        "weather = weather[weather['year']== 2016][['month','day','hr','Temp.','Precip','snow', 'Visibility']]"
      ]
    },
    {
      "cell_type": "code",
      "execution_count": null,
      "id": "56ce5d0e",
      "metadata": {
        "id": "56ce5d0e"
      },
      "outputs": [],
      "source": [
        "weather = weather.rename(columns={'month':'pick_month',\n",
        "                                  'day':'pick_day',\n",
        "                                  'hr':'pick_hr'})"
      ]
    },
    {
      "cell_type": "code",
      "execution_count": null,
      "id": "6e2b2ccf",
      "metadata": {
        "id": "6e2b2ccf",
        "outputId": "9f0a81d6-1b74-468f-936d-a2212f156834"
      },
      "outputs": [
        {
          "data": {
            "text/html": [
              "<div>\n",
              "<style scoped>\n",
              "    .dataframe tbody tr th:only-of-type {\n",
              "        vertical-align: middle;\n",
              "    }\n",
              "\n",
              "    .dataframe tbody tr th {\n",
              "        vertical-align: top;\n",
              "    }\n",
              "\n",
              "    .dataframe thead th {\n",
              "        text-align: right;\n",
              "    }\n",
              "</style>\n",
              "<table border=\"1\" class=\"dataframe\">\n",
              "  <thead>\n",
              "    <tr style=\"text-align: right;\">\n",
              "      <th></th>\n",
              "      <th>pick_month</th>\n",
              "      <th>pick_day</th>\n",
              "      <th>pick_hr</th>\n",
              "      <th>Temp.</th>\n",
              "      <th>Precip</th>\n",
              "      <th>snow</th>\n",
              "      <th>Visibility</th>\n",
              "    </tr>\n",
              "  </thead>\n",
              "  <tbody>\n",
              "    <tr>\n",
              "      <th>22</th>\n",
              "      <td>1</td>\n",
              "      <td>1</td>\n",
              "      <td>0</td>\n",
              "      <td>5.6</td>\n",
              "      <td>0.0</td>\n",
              "      <td>0</td>\n",
              "      <td>16.1</td>\n",
              "    </tr>\n",
              "    <tr>\n",
              "      <th>23</th>\n",
              "      <td>1</td>\n",
              "      <td>1</td>\n",
              "      <td>1</td>\n",
              "      <td>5.6</td>\n",
              "      <td>0.0</td>\n",
              "      <td>0</td>\n",
              "      <td>16.1</td>\n",
              "    </tr>\n",
              "    <tr>\n",
              "      <th>24</th>\n",
              "      <td>1</td>\n",
              "      <td>1</td>\n",
              "      <td>2</td>\n",
              "      <td>5.6</td>\n",
              "      <td>0.0</td>\n",
              "      <td>0</td>\n",
              "      <td>16.1</td>\n",
              "    </tr>\n",
              "    <tr>\n",
              "      <th>25</th>\n",
              "      <td>1</td>\n",
              "      <td>1</td>\n",
              "      <td>3</td>\n",
              "      <td>5.0</td>\n",
              "      <td>0.0</td>\n",
              "      <td>0</td>\n",
              "      <td>16.1</td>\n",
              "    </tr>\n",
              "    <tr>\n",
              "      <th>26</th>\n",
              "      <td>1</td>\n",
              "      <td>1</td>\n",
              "      <td>4</td>\n",
              "      <td>5.0</td>\n",
              "      <td>0.0</td>\n",
              "      <td>0</td>\n",
              "      <td>16.1</td>\n",
              "    </tr>\n",
              "  </tbody>\n",
              "</table>\n",
              "</div>"
            ],
            "text/plain": [
              "    pick_month  pick_day  pick_hr  Temp.  Precip  snow  Visibility\n",
              "22           1         1        0    5.6     0.0     0        16.1\n",
              "23           1         1        1    5.6     0.0     0        16.1\n",
              "24           1         1        2    5.6     0.0     0        16.1\n",
              "25           1         1        3    5.0     0.0     0        16.1\n",
              "26           1         1        4    5.0     0.0     0        16.1"
            ]
          },
          "execution_count": 32,
          "metadata": {},
          "output_type": "execute_result"
        }
      ],
      "source": [
        "weather.head(5)"
      ]
    },
    {
      "cell_type": "code",
      "execution_count": null,
      "id": "f2d33675",
      "metadata": {
        "id": "f2d33675"
      },
      "outputs": [],
      "source": [
        "data = pd.merge(data, weather, on=['pick_month', 'pick_day', 'pick_hr'], how = 'left')\n",
        "test = pd.merge(test, weather, on=['pick_month', 'pick_day', 'pick_hr'], how = 'left')"
      ]
    },
    {
      "cell_type": "code",
      "execution_count": null,
      "id": "44e79320",
      "metadata": {
        "id": "44e79320"
      },
      "outputs": [],
      "source": [
        "weather_data = data[['Temp.','Precip','snow','Visibility']]\n",
        "weather_test = test[['Temp.','Precip','snow','Visibility']]"
      ]
    },
    {
      "cell_type": "code",
      "execution_count": null,
      "id": "79b191cf",
      "metadata": {
        "id": "79b191cf",
        "outputId": "de6e3f88-4997-4cb3-9bc9-0d157c656380"
      },
      "outputs": [
        {
          "data": {
            "text/html": [
              "<div>\n",
              "<style scoped>\n",
              "    .dataframe tbody tr th:only-of-type {\n",
              "        vertical-align: middle;\n",
              "    }\n",
              "\n",
              "    .dataframe tbody tr th {\n",
              "        vertical-align: top;\n",
              "    }\n",
              "\n",
              "    .dataframe thead th {\n",
              "        text-align: right;\n",
              "    }\n",
              "</style>\n",
              "<table border=\"1\" class=\"dataframe\">\n",
              "  <thead>\n",
              "    <tr style=\"text-align: right;\">\n",
              "      <th></th>\n",
              "      <th>Temp.</th>\n",
              "      <th>Precip</th>\n",
              "      <th>snow</th>\n",
              "      <th>Visibility</th>\n",
              "    </tr>\n",
              "  </thead>\n",
              "  <tbody>\n",
              "    <tr>\n",
              "      <th>0</th>\n",
              "      <td>4.4</td>\n",
              "      <td>0.3</td>\n",
              "      <td>0.0</td>\n",
              "      <td>8.0</td>\n",
              "    </tr>\n",
              "    <tr>\n",
              "      <th>1</th>\n",
              "      <td>28.9</td>\n",
              "      <td>0.0</td>\n",
              "      <td>0.0</td>\n",
              "      <td>16.1</td>\n",
              "    </tr>\n",
              "    <tr>\n",
              "      <th>2</th>\n",
              "      <td>-6.7</td>\n",
              "      <td>0.0</td>\n",
              "      <td>0.0</td>\n",
              "      <td>16.1</td>\n",
              "    </tr>\n",
              "    <tr>\n",
              "      <th>3</th>\n",
              "      <td>7.2</td>\n",
              "      <td>0.0</td>\n",
              "      <td>0.0</td>\n",
              "      <td>16.1</td>\n",
              "    </tr>\n",
              "    <tr>\n",
              "      <th>4</th>\n",
              "      <td>9.4</td>\n",
              "      <td>0.0</td>\n",
              "      <td>0.0</td>\n",
              "      <td>16.1</td>\n",
              "    </tr>\n",
              "  </tbody>\n",
              "</table>\n",
              "</div>"
            ],
            "text/plain": [
              "   Temp.  Precip  snow  Visibility\n",
              "0    4.4     0.3   0.0         8.0\n",
              "1   28.9     0.0   0.0        16.1\n",
              "2   -6.7     0.0   0.0        16.1\n",
              "3    7.2     0.0   0.0        16.1\n",
              "4    9.4     0.0   0.0        16.1"
            ]
          },
          "execution_count": 35,
          "metadata": {},
          "output_type": "execute_result"
        }
      ],
      "source": [
        "weather_data.head()"
      ]
    },
    {
      "cell_type": "code",
      "execution_count": null,
      "id": "b33a1e4c",
      "metadata": {
        "id": "b33a1e4c"
      },
      "outputs": [],
      "source": [
        "def haversine_array(lat1, lng1, lat2, lng2):\n",
        "    lat1,lng1,lat2,lng2 = map(np.radians, (lat1,lng1,lat2,lng2))\n",
        "    earth_radius = 6371 #km\n",
        "    lat = lat2-lat1\n",
        "    lng = lng2-lng1\n",
        "    d = np.sin(lat*0.5) **2 + np.cos(lat1) * np.cos(lat2) * np.sin(lng *0.5)**2\n",
        "    h = 2 * earth_radius * np.arcsin(np.sqrt(d))\n",
        "    return h\n",
        "\n",
        "def manhattan_distance(lat1, lat2, lng1, lng2):\n",
        "    a = haversine_array(lat1,lng1,lat1,lng2)\n",
        "    b = haversine_array(lat1,lng1,lat2,lng1)\n",
        "    return a+b\n",
        "\n",
        "def bearing_array(lat1, lng1, lat2, lng2):\n",
        "    lng_delta_rad = np.radians(lng2 - lng1)\n",
        "    lat1, lng1, lat2, lng2 = map(np.radians, (lat1, lng1, lat2, lng2))\n",
        "    y = np.sin(lng_delta_rad) * np.cos(lat2)\n",
        "    x = np.cos(lat1) * np.sin(lat2) - np.sin(lat1) * np.cos(lat2) * np.cos(lng_delta_rad)\n",
        "    return np.degrees(np.arctan2(y, x))"
      ]
    },
    {
      "cell_type": "code",
      "execution_count": null,
      "id": "d4201d6d",
      "metadata": {
        "id": "d4201d6d",
        "outputId": "203f663b-b7ed-43f5-f4bd-00962d38e781"
      },
      "outputs": [
        {
          "name": "stderr",
          "output_type": "stream",
          "text": [
            "/home/ec2-user/anaconda3/envs/python3/lib/python3.8/site-packages/seaborn/_decorators.py:36: FutureWarning: Pass the following variables as keyword args: x, y. From version 0.12, the only valid positional argument will be `data`, and passing other arguments without an explicit keyword will result in an error or misinterpretation.\n",
            "  warnings.warn(\n"
          ]
        },
        {
          "data": {
            "image/png": "[encoded data removed]",
            "text/plain": [
              "<Figure size 864x360 with 1 Axes>"
            ]
          },
          "metadata": {},
          "output_type": "display_data"
        }
      ],
      "source": [
        "# Calculate the manhattan distance and speed\n",
        "manhattan = manhattan_distance(data['pickup_latitude'],data['dropoff_latitude'],data['pickup_longitude'],data['dropoff_longitude'])\n",
        "manhattan_speed = manhattan / data['trip_duration']\n",
        "\n",
        "# Plot speed against the time of day\n",
        "sns.set(font_scale=1.2)\n",
        "plt.figure(figsize=(12, 5))\n",
        "sns.boxplot(data['pick_hr'], manhattan_speed, showfliers=False)\n",
        "plt.title('Average speeds vs. time of day')\n",
        "plt.ylabel('Average Speed')\n",
        "plt.xlabel('Hour')\n",
        "plt.show()\n"
      ]
    },
    {
      "cell_type": "code",
      "execution_count": null,
      "id": "a40ebf07",
      "metadata": {
        "id": "a40ebf07",
        "outputId": "762d6246-e3ca-4176-d7e0-c60bf2b687f7"
      },
      "outputs": [
        {
          "data": {
            "image/png": "[encoded data removed]",
            "text/plain": [
              "<Figure size 432x360 with 1 Axes>"
            ]
          },
          "metadata": {},
          "output_type": "display_data"
        }
      ],
      "source": [
        "# distributionof trip duration\n",
        "sns.set(font_scale=1.2)\n",
        "plt.figure(figsize=(6, 5))\n",
        "plt.hist(sorted(data['log_trip_duration']), bins=100)\n",
        "plt.title('Distribution curve of rides w.r.t Duration(in log)')\n",
        "plt.ylabel('Ride Distribution')\n",
        "plt.xlabel('log_trip_duration')\n",
        "plt.show()"
      ]
    },
    {
      "cell_type": "code",
      "execution_count": null,
      "id": "a9b7c299",
      "metadata": {
        "id": "a9b7c299"
      },
      "outputs": [],
      "source": [
        "tempdata = data\n",
        "tempdata = pd.concat([tempdata, time_data], axis=1)"
      ]
    },
    {
      "cell_type": "code",
      "execution_count": null,
      "id": "5de04b34",
      "metadata": {
        "id": "5de04b34",
        "outputId": "24a16516-f852-403c-9e50-8ff6b8a97221"
      },
      "outputs": [
        {
          "data": {
            "text/plain": [
              "Text(0.5, 1.0, 'log_trip_duration vs hr of the day')"
            ]
          },
          "execution_count": 40,
          "metadata": {},
          "output_type": "execute_result"
        },
        {
          "data": {
            "image/png": "[encoded data removed]",
            "text/plain": [
              "<Figure size 1296x576 with 1 Axes>"
            ]
          },
          "metadata": {},
          "output_type": "display_data"
        }
      ],
      "source": [
        "sns.set(font_scale=1.2)\n",
        "plt.figure(figsize=(18, 8))\n",
        "sns.boxplot(x = \"pick_hr\", y=\"log_trip_duration\", data = data, showfliers = False)\n",
        "plt.title(\"log_trip_duration vs hr of the day\")"
      ]
    },
    {
      "cell_type": "code",
      "execution_count": null,
      "id": "595c5b15",
      "metadata": {
        "id": "595c5b15",
        "outputId": "4e9d2927-95d0-4ef0-e5d1-8cab74430f77"
      },
      "outputs": [
        {
          "data": {
            "text/plain": [
              "Text(0.5, 1.0, 'Comparision of log_trip_duration vs month for rest_day and working day')"
            ]
          },
          "execution_count": 41,
          "metadata": {},
          "output_type": "execute_result"
        },
        {
          "data": {
            "image/png": "[encoded data removed]",
            "text/plain": [
              "<Figure size 432x288 with 1 Axes>"
            ]
          },
          "metadata": {},
          "output_type": "display_data"
        }
      ],
      "source": [
        "#month vs trip_duration\n",
        "sns.violinplot(x = \"pick_month\", y=\"log_trip_duration\", hue = \"rest_day\", data=tempdata, split=True, inner = \"quart\")\n",
        "plt.title(\"Comparision of log_trip_duration vs month for rest_day and working day\")"
      ]
    },
    {
      "cell_type": "code",
      "execution_count": null,
      "id": "c92142d9",
      "metadata": {
        "id": "c92142d9",
        "outputId": "af301663-e301-49ba-e23b-5be432d40361"
      },
      "outputs": [
        {
          "name": "stdout",
          "output_type": "stream",
          "text": [
            "<class 'pandas.core.frame.DataFrame'>\n",
            "Int64Index: 1437128 entries, 0 to 1437127\n",
            "Data columns (total 24 columns):\n",
            " #   Column              Non-Null Count    Dtype         \n",
            "---  ------              --------------    -----         \n",
            " 0   id                  1437128 non-null  object        \n",
            " 1   vendor_id           1437128 non-null  int64         \n",
            " 2   pickup_datetime     1437128 non-null  datetime64[ns]\n",
            " 3   dropoff_datetime    1437128 non-null  object        \n",
            " 4   passenger_count     1437128 non-null  int64         \n",
            " 5   pickup_longitude    1437128 non-null  float64       \n",
            " 6   pickup_latitude     1437128 non-null  float64       \n",
            " 7   dropoff_longitude   1437128 non-null  float64       \n",
            " 8   dropoff_latitude    1437128 non-null  float64       \n",
            " 9   store_and_fwd_flag  1437128 non-null  int64         \n",
            " 10  trip_duration       1437128 non-null  int64         \n",
            " 11  pick_year           1437128 non-null  int64         \n",
            " 12  pick_month          1437128 non-null  int64         \n",
            " 13  pick_day            1437128 non-null  int64         \n",
            " 14  pick_hr             1437128 non-null  int64         \n",
            " 15  pick_minute         1437128 non-null  int64         \n",
            " 16  pick_weekday        1437128 non-null  int64         \n",
            " 17  isweekend           1437128 non-null  int64         \n",
            " 18  log_trip_duration   1437128 non-null  float64       \n",
            " 19  pickup_dropoff_loc  1437128 non-null  int32         \n",
            " 20  Temp.               1425293 non-null  float64       \n",
            " 21  Precip              1425293 non-null  float64       \n",
            " 22  snow                1425293 non-null  float64       \n",
            " 23  Visibility          1381336 non-null  float64       \n",
            "dtypes: datetime64[ns](1), float64(9), int32(1), int64(11), object(2)\n",
            "memory usage: 268.6+ MB\n"
          ]
        }
      ],
      "source": [
        "data.info()"
      ]
    }
  ],
  "metadata": {
    "kernelspec": {
      "display_name": "conda_python3",
      "language": "python",
      "name": "conda_python3"
    },
    "language_info": {
      "codemirror_mode": {
        "name": "ipython",
        "version": 3
      },
      "file_extension": ".py",
      "mimetype": "text/x-python",
      "name": "python",
      "nbconvert_exporter": "python",
      "pygments_lexer": "ipython3",
      "version": "3.8.12"
    },
    "colab": {
      "provenance": []
    }
  },
  "nbformat": 4,
  "nbformat_minor": 5
}